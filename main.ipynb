{
 "cells": [
  {
   "cell_type": "code",
   "execution_count": 1,
   "id": "f086c872-404d-4ab1-ae60-74741d748b0b",
   "metadata": {},
   "outputs": [
    {
     "name": "stderr",
     "output_type": "stream",
     "text": [
      "2024-11-06 10:48:55.330 \n",
      "  \u001b[33m\u001b[1mWarning:\u001b[0m to view this Streamlit app on a browser, run it with the following\n",
      "  command:\n",
      "\n",
      "    streamlit run C:\\Users\\HP\\AppData\\Local\\Programs\\Python\\Python311\\Lib\\site-packages\\ipykernel_launcher.py [ARGUMENTS]\n",
      "2024-11-06 10:48:55.330 Session state does not function when running a script without `streamlit run`\n"
     ]
    }
   ],
   "source": [
    "import streamlit as st\n",
    "import ollama\n",
    "# set the model\n",
    "desiredModel = 'llama3.1:8b'\n",
    "\n",
    "st.title(\"Our First LLM Web Application Based on Llama (running locally) and Streamlit\")\n",
    "\n",
    "def generate_response(questionToAsk):\n",
    "    response = ollama.chat(model=desiredModel, messages=[\n",
    "        {\n",
    "            'role': 'user',\n",
    "            'content': questionToAsk,\n",
    "        },\n",
    "    ])\n",
    "    st.info(response['message']['content'])\n",
    "\n",
    "with st.form(\"my_form\"):\n",
    "    text = st.text_area(\n",
    "        \"Enter text:\",\n",
    "        \"Over here, ask a question and press the Submit button. \",\n",
    "    )\n",
    "    submitted = st.form_submit_button(\"Submit\")\n",
    "    if submitted:\n",
    "        generate_response(text)"
   ]
  },
  {
   "cell_type": "code",
   "execution_count": null,
   "id": "2c7e9a27-9808-4e16-987a-03961408239c",
   "metadata": {},
   "outputs": [],
   "source": []
  }
 ],
 "metadata": {
  "kernelspec": {
   "display_name": "Python 3 (ipykernel)",
   "language": "python",
   "name": "python3"
  },
  "language_info": {
   "codemirror_mode": {
    "name": "ipython",
    "version": 3
   },
   "file_extension": ".py",
   "mimetype": "text/x-python",
   "name": "python",
   "nbconvert_exporter": "python",
   "pygments_lexer": "ipython3",
   "version": "3.11.1"
  }
 },
 "nbformat": 4,
 "nbformat_minor": 5
}
